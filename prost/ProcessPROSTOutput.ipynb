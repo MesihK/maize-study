{
 "cells": [
  {
   "cell_type": "code",
   "execution_count": 1,
   "id": "d159ca10-e930-4ac3-86f6-d64ec1d8daab",
   "metadata": {},
   "outputs": [],
   "source": [
    "import csv\n",
    "from pickle import dump, load\n",
    "from tqdm import tqdm\n",
    "v='07.12.23'\n",
    "topN = 5\n",
    "\n",
    "prost_res = {}\n",
    "with open(f'{v}.0.05.prost.res.tsv','r') as f:\n",
    "    for line in f:\n",
    "        line = line.strip().split('\\t')\n",
    "        q = line[0]\n",
    "        h = line[2]\n",
    "        if q not in prost_res: prost_res[q] = []\n",
    "        if len(prost_res[q]) < topN: prost_res[q].append(h)"
   ]
  },
  {
   "cell_type": "code",
   "execution_count": 2,
   "id": "2b039e7b-bb51-4771-b80d-9a34e95ddd11",
   "metadata": {},
   "outputs": [],
   "source": [
    "with open(f'../pkl/union.db.all.go.{v}.pkl','rb') as f:\n",
    "    union_fa_all_upd = load(f)\n",
    "with open('../pkl/IA.dict.pkl','rb') as f:\n",
    "    IAdict = load(f)"
   ]
  },
  {
   "cell_type": "code",
   "execution_count": 3,
   "id": "2d72ddf1-9cb1-48a2-92cd-a96d8a409052",
   "metadata": {},
   "outputs": [],
   "source": [
    "#filter out go terms with IA = 0\n",
    "#merge the go terms from homologs, but dont mix the ranking.\n",
    "with open(f'{v}.prost.e005.top{topN}.tsv','w') as f:\n",
    "    for p in prost_res:\n",
    "        goMap = {}\n",
    "        for i,h in enumerate(prost_res[p]):\n",
    "            score = 1 - i*(1/topN)\n",
    "            for go in union_fa_all_upd[h]:\n",
    "                if go not in IAdict: continue\n",
    "                if IAdict[go] == 0: continue\n",
    "                if go not in goMap: goMap[go] = score\n",
    "        for go in goMap:\n",
    "            f.write(f'{p}\\t{go}\\t{goMap[go]}\\n')"
   ]
  },
  {
   "cell_type": "code",
   "execution_count": 4,
   "id": "42fded6a-c173-471f-8532-76c2e16e02a8",
   "metadata": {},
   "outputs": [],
   "source": [
    "!tar -czf 07.12.23.e005.top5.tar.gz 07.12.23.prost.e005.top5.tsv"
   ]
  }
 ],
 "metadata": {
  "kernelspec": {
   "display_name": "Python 3 (ipykernel)",
   "language": "python",
   "name": "python3"
  },
  "language_info": {
   "codemirror_mode": {
    "name": "ipython",
    "version": 3
   },
   "file_extension": ".py",
   "mimetype": "text/x-python",
   "name": "python",
   "nbconvert_exporter": "python",
   "pygments_lexer": "ipython3",
   "version": "3.9.0"
  }
 },
 "nbformat": 4,
 "nbformat_minor": 5
}
