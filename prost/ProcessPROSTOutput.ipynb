{
 "cells": [
  {
   "cell_type": "code",
   "execution_count": 11,
   "id": "edec411f-2333-4377-b582-a1101c78c77c",
   "metadata": {},
   "outputs": [],
   "source": [
    "from pickle import dump, load\n",
    "v='07.12.23'\n",
    "\n",
    "with open(f'../pkl/union.db.all.go.{v}.pkl','rb') as f:\n",
    "    union_fa_all_upd = load(f)\n",
    "with open('../pkl/IA.dict.pkl','rb') as f:\n",
    "    IAdict = load(f)\n",
    "with open(f'../pkl/pdb.all.go.{v}.v2.pkl','rb') as f:\n",
    "    pdb_goa_upd = load(f)\n",
    "with open(f'../pkl/go.desc.pkl','rb') as f:\n",
    "    godesc = load(f)\n",
    "\n",
    "merged_goa = union_fa_all_upd | pdb_goa_upd"
   ]
  },
  {
   "cell_type": "code",
   "execution_count": 28,
   "id": "7cf765dd-1b13-4621-8ee0-6969a3bb14f5",
   "metadata": {},
   "outputs": [],
   "source": [
    "godesc = {}\n",
    "with open(f'../pkl/go-basic.obo','r') as f:\n",
    "    state = 0\n",
    "    go = ''\n",
    "    desc = ''\n",
    "    for line in f:\n",
    "        line = line.strip()\n",
    "        if line.startswith('id: '): go = line.split('id: ')[1]\n",
    "        if line.startswith('name: '):\n",
    "            desc = line.split('name: ')[1]\n",
    "            godesc[go] = desc\n",
    "\n",
    "with open(f'../pkl/go.desc.pkl','wb') as f:\n",
    "    dump(godesc,f)"
   ]
  },
  {
   "cell_type": "code",
   "execution_count": 17,
   "id": "d159ca10-e930-4ac3-86f6-d64ec1d8daab",
   "metadata": {},
   "outputs": [],
   "source": [
    "import csv\n",
    "from pickle import dump, load\n",
    "from tqdm import tqdm\n",
    "v='uniprot07.pdb08'\n",
    "topN = 5\n",
    "\n",
    "prost_res = {}\n",
    "with open(f'{v}.05.prost.res.tsv','r') as f:\n",
    "    for line in f:\n",
    "        line = line.strip().split('\\t')\n",
    "        q = line[0]\n",
    "        h = line[1]\n",
    "        if h not in merged_goa: continue\n",
    "        if q not in prost_res: prost_res[q] = []\n",
    "        if len(prost_res[q]) < topN: prost_res[q].append(h)"
   ]
  },
  {
   "cell_type": "code",
   "execution_count": 27,
   "id": "2d72ddf1-9cb1-48a2-92cd-a96d8a409052",
   "metadata": {},
   "outputs": [],
   "source": [
    "#filter out go terms with IA = 0\n",
    "#merge the go terms from homologs, but dont mix the ranking.\n",
    "with open(f'{v}.prost.e05.top{topN}.small.tsv','w') as f:\n",
    "    for p in prost_res:\n",
    "        goMap = {}\n",
    "        for i,h in enumerate(prost_res[p]):\n",
    "            score = 1 - i*(1/topN)\n",
    "            for go in merged_goa[h]:\n",
    "                if go not in IAdict: continue\n",
    "                #if IAdict[go] == 0: continue\n",
    "                if go not in goMap: goMap[go] = score\n",
    "        for go in goMap:\n",
    "            f.write(f'{p}\\t{go}\\t{godesc[go]}\\t{goMap[go]}\\n')"
   ]
  },
  {
   "cell_type": "code",
   "execution_count": 21,
   "id": "42fded6a-c173-471f-8532-76c2e16e02a8",
   "metadata": {},
   "outputs": [],
   "source": [
    "!tar -czf uniprot07.pdb08.prost.e05.top3.small.tar.gz uniprot07.pdb08.prost.e05.top3.small.tsv"
   ]
  }
 ],
 "metadata": {
  "kernelspec": {
   "display_name": "Python 3 (ipykernel)",
   "language": "python",
   "name": "python3"
  },
  "language_info": {
   "codemirror_mode": {
    "name": "ipython",
    "version": 3
   },
   "file_extension": ".py",
   "mimetype": "text/x-python",
   "name": "python",
   "nbconvert_exporter": "python",
   "pygments_lexer": "ipython3",
   "version": "3.9.17"
  }
 },
 "nbformat": 4,
 "nbformat_minor": 5
}
