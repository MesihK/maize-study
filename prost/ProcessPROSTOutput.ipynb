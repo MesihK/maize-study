{
 "cells": [
  {
   "cell_type": "code",
   "execution_count": 1,
   "id": "edec411f-2333-4377-b582-a1101c78c77c",
   "metadata": {},
   "outputs": [],
   "source": [
    "from pickle import dump, load\n",
    "v='07.12.23'\n",
    "\n",
    "with open(f'../pkl/union.db.all.go.{v}.pkl','rb') as f:\n",
    "    union_fa_all_upd = load(f)\n",
    "with open('../pkl/IA.dict.pkl','rb') as f:\n",
    "    IAdict = load(f)\n",
    "with open(f'../pkl/pdb.all.go.{v}.v2.pkl','rb') as f:\n",
    "    pdb_goa_upd = load(f)\n",
    "\n",
    "merged_goa = union_fa_all_upd | pdb_goa_upd"
   ]
  },
  {
   "cell_type": "code",
   "execution_count": 16,
   "id": "24c49c14-c090-431a-a11f-b88973dd8b24",
   "metadata": {},
   "outputs": [
    {
     "data": {
      "text/plain": [
       "[]"
      ]
     },
     "execution_count": 16,
     "metadata": {},
     "output_type": "execute_result"
    }
   ],
   "source": [
    "merged_goa['Q9LYY7']"
   ]
  },
  {
   "cell_type": "code",
   "execution_count": 17,
   "id": "b5ced0a1-219f-4a68-ad2d-b9083fb45715",
   "metadata": {},
   "outputs": [],
   "source": [
    "with open('../pkl/important.prots.v2.pkl','rb') as f:\n",
    "    important_proteins = load(f)"
   ]
  },
  {
   "cell_type": "code",
   "execution_count": 18,
   "id": "d159ca10-e930-4ac3-86f6-d64ec1d8daab",
   "metadata": {},
   "outputs": [],
   "source": [
    "import csv\n",
    "from pickle import dump, load\n",
    "from tqdm import tqdm\n",
    "v='uniprot07.pdb08'\n",
    "topN = 3\n",
    "\n",
    "prost_res = {}\n",
    "with open(f'{v}.05.prost.res.tsv','r') as f:\n",
    "    for line in f:\n",
    "        line = line.strip().split('\\t')\n",
    "        q = line[0]\n",
    "        h = line[2]\n",
    "        if h not in merged_goa: continue\n",
    "        if q not in prost_res: prost_res[q] = []\n",
    "        if len(prost_res[q]) < topN: prost_res[q].append(h)"
   ]
  },
  {
   "cell_type": "code",
   "execution_count": 20,
   "id": "2d72ddf1-9cb1-48a2-92cd-a96d8a409052",
   "metadata": {},
   "outputs": [],
   "source": [
    "#filter out go terms with IA = 0\n",
    "#merge the go terms from homologs, but dont mix the ranking.\n",
    "with open(f'{v}.prost.e05.top{topN}.small.tsv','w') as f:\n",
    "    for p in important_proteins:\n",
    "        if p not in prost_res: continue\n",
    "        goMap = {}\n",
    "        for i,h in enumerate(prost_res[p]):\n",
    "            score = 1 - i*(1/topN)\n",
    "            for go in merged_goa[h]:\n",
    "                if go not in IAdict: continue\n",
    "                if IAdict[go] == 0: continue\n",
    "                if go not in goMap: goMap[go] = score\n",
    "        for go in goMap:\n",
    "            f.write(f'{p}\\t{go}\\t{goMap[go]}\\n')"
   ]
  },
  {
   "cell_type": "code",
   "execution_count": 21,
   "id": "42fded6a-c173-471f-8532-76c2e16e02a8",
   "metadata": {},
   "outputs": [],
   "source": [
    "!tar -czf uniprot07.pdb08.prost.e05.top3.small.tar.gz uniprot07.pdb08.prost.e05.top3.small.tsv"
   ]
  }
 ],
 "metadata": {
  "kernelspec": {
   "display_name": "Python 3 (ipykernel)",
   "language": "python",
   "name": "python3"
  },
  "language_info": {
   "codemirror_mode": {
    "name": "ipython",
    "version": 3
   },
   "file_extension": ".py",
   "mimetype": "text/x-python",
   "name": "python",
   "nbconvert_exporter": "python",
   "pygments_lexer": "ipython3",
   "version": "3.9.0"
  }
 },
 "nbformat": 4,
 "nbformat_minor": 5
}
